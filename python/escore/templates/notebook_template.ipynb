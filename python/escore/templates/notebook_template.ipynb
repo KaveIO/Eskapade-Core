{{
 "cells": [
  {{
   "cell_type": "markdown",
   "metadata": {{}},
   "source": [
    "# Eskapade: {notebook_name}"
   ]
  }},
  {{
   "cell_type": "code",
   "execution_count": null,
   "metadata":  {{}},
   "outputs": [],
   "source": [
    "from eskapade import process_manager, resources, ConfigObject, DataStore\n",
    "# from eskapade import core_ops, analysis, visualization\n",
    "from eskapade.core import execution, persistence\n",
    "from eskapade.logger import Logger, LogLevel, global_log_publisher, ConsoleHandler, ConsoleErrHandler, LogPublisher\n\n",
    "global_log_publisher.add_handler(ConsoleHandler())\n",
    "global_log_publisher.add_handler(ConsoleErrHandler())"
   ]
  }},
  {{
   "cell_type": "markdown",
   "metadata": {{
    "collapsed": true
   }},
   "source": [
    "## Running Eskapade in Jupyter"
   ]
  }},
  {{
   "cell_type": "code",
   "execution_count": null,
   "metadata":  {{}},
   "outputs": [],
   "source": [
    "settings = process_manager.service(ConfigObject)\n",
    "# Set your macro path here\n",
    "settings['macro'] = {macro_path}\n",
    "settings['version'] = 0\n",
    "settings['logLevel'] = LogLevel.DEBUG"
   ]
  }},
  {{
   "cell_type": "code",
   "execution_count": null,
   "metadata":  {{}},
   "outputs": [],
   "source": [
    "# run eskapade\n",
    "execution.eskapade_run(settings)"
   ]
  }},
  {{
   "cell_type": "code",
   "execution_count": null,
   "metadata":  {{}},
   "outputs": [],
   "source": [
    "# see what's in the datastore\n",
    "ds = process_manager.service(DataStore)\n",
    "ds.Print()"
   ]
  }},
  {{
   "cell_type": "markdown",
   "metadata":  {{}},
   "source": [
    "## Reading the datastore from a pickle file"
   ]
  }},
  {{
   "cell_type": "code",
   "execution_count": null,
   "metadata":  {{}},
   "outputs": [],
   "source": [
    "ds = DataStore.import_from_file(persistence.io_path('proc_service_data',\n",
    "                                                    'latest/eskapade.core.process_services.DataStore.pkl'))\n",
    "ds.Print()"
   ]
  }},
  {{
   "cell_type": "markdown",
   "metadata":  {{}},
   "source": [
    "## Reading the settings from a pickle file"
   ]
  }},
  {{
   "cell_type": "code",
   "execution_count": null,
   "metadata":  {{}},
   "outputs": [],
   "source": [
    "settings = ConfigObject.import_from_file(persistence.io_path('proc_service_data',\n",
    "                                                             'latest/eskapade.core.process_services.ConfigObject.pkl'))\n",
    "settings.Print()"
   ]
  }},
  {{
   "cell_type": "markdown",
   "metadata":  {{}},
   "source": [
    "## To rerun eskapade, clear the memory state first!"
   ]
  }},
  {{
   "cell_type": "code",
   "execution_count": null,
   "metadata":  {{}},
   "outputs": [],
   "source": [
    "execution.reset_eskapade()"
   ]
  }}
 ],
 "metadata": {{
  "anaconda-cloud":  {{}},
  "kernelspec": {{
   "display_name": "Python [Root]",
   "language": "python",
   "name": "Python [Root]"
  }},
  "language_info": {{
   "codemirror_mode": {{
    "name": "ipython",
    "version": 3
   }},
   "file_extension": ".py",
   "mimetype": "text/x-python",
   "name": "python",
   "nbconvert_exporter": "python",
   "pygments_lexer": "ipython3",
   "version": "{python_version}"
  }}
 }},
 "nbformat": 4,
 "nbformat_minor": 0
}}
